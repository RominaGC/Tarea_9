{
 "cells": [
  {
   "cell_type": "markdown",
   "metadata": {},
   "source": [
    "<img style=\"float: left; margin: 30px 15px 15px 15px;\" src=\"https://pngimage.net/wp-content/uploads/2018/06/logo-iteso-png-5.png\" width=\"300\" height=\"500\" /> \n",
    "    \n",
    "    \n",
    "### <font color='navy'> Simulación de procesos financieros. \n",
    "\n",
    "**Nombres:** Romina Gutiérrez Cortés\n",
    "\n",
    "**Fecha:** 04 de noviembre del 2020.\n",
    "\n",
    "**Expediente** : 713415.\n",
    "**Profesor:** Oscar David Jaramillo Zuluaga.\n",
    "\n",
    "# Tarea 8: Clase 17"
   ]
  },
  {
   "cell_type": "markdown",
   "metadata": {},
   "source": [
    "# Ejercicio\n",
    "Para ver si la venta de chips de silicio son independientes del punto del ciclo de negocios en que se encuentre la economía del país se han recogido las ventas semanales de una empresa y datos acerca de la economía del país, y se reportan los siguientes resultados:\n",
    "![imagen.png](attachment:imagen.png)\n",
    "\n",
    "Realice la prueba de chi-cuadrado para validar la independencia del punto del ciclo de negocios en que se encuentre la economía."
   ]
  },
  {
   "cell_type": "code",
   "execution_count": 1,
   "metadata": {},
   "outputs": [],
   "source": [
    "import pandas as pd\n",
    "import numpy as np\n",
    "import scipy.stats as st     \n",
    "import matplotlib.pyplot as plt"
   ]
  },
  {
   "cell_type": "code",
   "execution_count": 13,
   "metadata": {},
   "outputs": [
    {
     "data": {
      "text/html": [
       "<div>\n",
       "<style scoped>\n",
       "    .dataframe tbody tr th:only-of-type {\n",
       "        vertical-align: middle;\n",
       "    }\n",
       "\n",
       "    .dataframe tbody tr th {\n",
       "        vertical-align: top;\n",
       "    }\n",
       "\n",
       "    .dataframe thead th {\n",
       "        text-align: right;\n",
       "    }\n",
       "</style>\n",
       "<table border=\"1\" class=\"dataframe\">\n",
       "  <thead>\n",
       "    <tr style=\"text-align: right;\">\n",
       "      <th></th>\n",
       "      <th>Alta</th>\n",
       "      <th>Mediana</th>\n",
       "      <th>Baja</th>\n",
       "      <th>Total</th>\n",
       "    </tr>\n",
       "  </thead>\n",
       "  <tbody>\n",
       "    <tr>\n",
       "      <th>Pico</th>\n",
       "      <td>20</td>\n",
       "      <td>7</td>\n",
       "      <td>3</td>\n",
       "      <td>30.0</td>\n",
       "    </tr>\n",
       "    <tr>\n",
       "      <th>Abajo</th>\n",
       "      <td>30</td>\n",
       "      <td>40</td>\n",
       "      <td>30</td>\n",
       "      <td>100.0</td>\n",
       "    </tr>\n",
       "    <tr>\n",
       "      <th>Subiendo</th>\n",
       "      <td>20</td>\n",
       "      <td>8</td>\n",
       "      <td>2</td>\n",
       "      <td>30.0</td>\n",
       "    </tr>\n",
       "    <tr>\n",
       "      <th>Bajando</th>\n",
       "      <td>30</td>\n",
       "      <td>5</td>\n",
       "      <td>5</td>\n",
       "      <td>40.0</td>\n",
       "    </tr>\n",
       "    <tr>\n",
       "      <th>Total</th>\n",
       "      <td>100</td>\n",
       "      <td>60</td>\n",
       "      <td>40</td>\n",
       "      <td>200.0</td>\n",
       "    </tr>\n",
       "  </tbody>\n",
       "</table>\n",
       "</div>"
      ],
      "text/plain": [
       "         Alta Mediana Baja  Total\n",
       "Pico       20       7    3   30.0\n",
       "Abajo      30      40   30  100.0\n",
       "Subiendo   20       8    2   30.0\n",
       "Bajando    30       5    5   40.0\n",
       "Total     100      60   40  200.0"
      ]
     },
     "execution_count": 13,
     "metadata": {},
     "output_type": "execute_result"
    }
   ],
   "source": [
    "data = pd.DataFrame(index=['Pico','Abajo','Subiendo','Bajando','Total'],columns=['Alta','Mediana','Baja','Total'])\n",
    "data.iloc[0,:-1] = [20,7,3]\n",
    "data.iloc[1,:-1] = [30,40,30]\n",
    "data.iloc[2,:-1] = [20,8,2]\n",
    "data.iloc[3,:-1] = [30,5,5]\n",
    "data.iloc[4,:-1] = data.sum(axis=0)\n",
    "data['Total'] = data.sum(axis=1)\n",
    "data"
   ]
  },
  {
   "cell_type": "code",
   "execution_count": 34,
   "metadata": {},
   "outputs": [
    {
     "data": {
      "text/plain": [
       "(array([15.0, 9.0, 6.0, 50.0, 30.0, 20.0, 15.0, 9.0, 6.0,\n",
       "        19.999999999999996, 11.999999999999996, 7.999999999999998],\n",
       "       dtype=object),\n",
       " array([20, 7, 3, 30, 40, 30, 20, 8, 2, 30, 5, 5], dtype=object))"
      ]
     },
     "execution_count": 34,
     "metadata": {},
     "output_type": "execute_result"
    }
   ],
   "source": [
    "P_pico = data.iloc[0,3]/data.iloc[-1,-1]\n",
    "P_abajo = data.iloc[1,3]/data.iloc[-1,-1]\n",
    "P_subiendo = data.iloc[2,3]/data.iloc[-1,-1]\n",
    "f_o = data.loc[data.index!='Total',data.columns!='Total'].values.flatten()\n",
    "f_e = np.concatenate([data.iloc[-1,:-1]*(P_pico),data.iloc[-1,:-1]*(P_abajo),data.iloc[-1,:-1]*(P_subiendo),data.iloc[-1,:-1]*(1-(P_pico+P_abajo+P_subiendo))])\n",
    "\n",
    "f_e,f_o"
   ]
  },
  {
   "cell_type": "code",
   "execution_count": 42,
   "metadata": {},
   "outputs": [
    {
     "name": "stdout",
     "output_type": "stream",
     "text": [
      "Valor de chi cuadrado =  34.59722222222222 ,p-value de la prueba= 3.1653811153460315e-05\n",
      "Estadístico de Ji =  6.251388631170325\n"
     ]
    }
   ],
   "source": [
    "F_obse = f_o \n",
    "F_espe = f_e \n",
    "x2 = st.chisquare(F_obse,F_espe,ddof=3)\n",
    "print('Valor de chi cuadrado = ',list(x2)[0],',p-value de la prueba=',list(x2)[1])\n",
    "\n",
    "Ji = st.chi2.ppf(q = 0.9,df=3)\n",
    "print('Estadístico de Ji = ',Ji)"
   ]
  },
  {
   "cell_type": "code",
   "execution_count": 44,
   "metadata": {},
   "outputs": [
    {
     "data": {
      "text/plain": [
       "0.9999998518101967"
      ]
     },
     "execution_count": 44,
     "metadata": {},
     "output_type": "execute_result"
    }
   ],
   "source": [
    "x1 = st.chi2.cdf(list(x2)[0],df=3)\n",
    "x1"
   ]
  },
  {
   "cell_type": "markdown",
   "metadata": {},
   "source": [
    "Rechazamos que el nivel de las ventas sea independiente del ciclo de negocios de la economía del país, ya que el valor de $$X_i^2$$ quedó más allá de nuestro valor crítico."
   ]
  },
  {
   "cell_type": "markdown",
   "metadata": {},
   "source": [
    "\n",
    "###### Ejercicio 2: prueba de chi cuadrada de homogeneidad\n",
    "En un estudio a los habitos de television de los ninos, se selecciona una muestra aleatoria de 300 personas (100 ninos y 200 ninas). A cada infante se le pregunta que es mejor the lone ranger, sesame street o los simpson. Y se obtienen los siguientes resultados.\n",
    "\n",
    "\n",
    "Realice la prueba de chi-cuadrado para validar la homogeneidad. Las preferencias de los hombres difieren significativa de las ninas, usa 0.05 de nivel de significancia.\n",
    "Las hipotesis que se definen son las siguientes:\n",
    "\n",
    "H0: A los niños les gustan lone ranger = A las niñas les gustan lone ranger\n",
    "\n",
    "H0: A los niños les gustan sesame street = A las niñas les gustan lone ranger\n",
    "\n",
    "H0: A los niños les gustan sesame street = A las niñas les gustan los simpsons\n",
    "\n",
    "H1: No se cumple al menos una de las hipotesis nulas.\n"
   ]
  },
  {
   "cell_type": "code",
   "execution_count": 53,
   "metadata": {},
   "outputs": [
    {
     "data": {
      "text/html": [
       "<div>\n",
       "<style scoped>\n",
       "    .dataframe tbody tr th:only-of-type {\n",
       "        vertical-align: middle;\n",
       "    }\n",
       "\n",
       "    .dataframe tbody tr th {\n",
       "        vertical-align: top;\n",
       "    }\n",
       "\n",
       "    .dataframe thead th {\n",
       "        text-align: right;\n",
       "    }\n",
       "</style>\n",
       "<table border=\"1\" class=\"dataframe\">\n",
       "  <thead>\n",
       "    <tr style=\"text-align: right;\">\n",
       "      <th></th>\n",
       "      <th>Lone Ranger</th>\n",
       "      <th>Sesame Street</th>\n",
       "      <th>The Simpsons</th>\n",
       "      <th>Total _</th>\n",
       "    </tr>\n",
       "  </thead>\n",
       "  <tbody>\n",
       "    <tr>\n",
       "      <th>Boys</th>\n",
       "      <td>50</td>\n",
       "      <td>30</td>\n",
       "      <td>20</td>\n",
       "      <td>100.0</td>\n",
       "    </tr>\n",
       "    <tr>\n",
       "      <th>Girls</th>\n",
       "      <td>50</td>\n",
       "      <td>80</td>\n",
       "      <td>70</td>\n",
       "      <td>200.0</td>\n",
       "    </tr>\n",
       "    <tr>\n",
       "      <th>Total 1</th>\n",
       "      <td>100</td>\n",
       "      <td>110</td>\n",
       "      <td>90</td>\n",
       "      <td>300.0</td>\n",
       "    </tr>\n",
       "  </tbody>\n",
       "</table>\n",
       "</div>"
      ],
      "text/plain": [
       "        Lone Ranger Sesame Street The Simpsons  Total _\n",
       "Boys             50            30           20    100.0\n",
       "Girls            50            80           70    200.0\n",
       "Total 1         100           110           90    300.0"
      ]
     },
     "execution_count": 53,
     "metadata": {},
     "output_type": "execute_result"
    }
   ],
   "source": [
    "GDL2 = 2\n",
    "datos2 = pd.DataFrame(index = ['Boys', 'Girls', 'Total 1'],\n",
    "                      columns = ['Lone Ranger', 'Sesame Street', 'The Simpsons', 'Total _'])\n",
    "datos2.iloc[0,:-1] = (50,30,20)\n",
    "datos2.iloc[1,:-1] = (50,80,70)\n",
    "datos2['Total _'] = datos2.sum(axis = 1)\n",
    "datos2.loc['Total 1'] = datos2.sum(axis = 0)\n",
    "datos2"
   ]
  },
  {
   "cell_type": "code",
   "execution_count": 61,
   "metadata": {},
   "outputs": [
    {
     "data": {
      "text/plain": [
       "(array([50, 30, 20, 50, 80, 70], dtype=object),\n",
       " array([33.33333333333333, 36.666666666666664, 30.0, 66.66666666666666,\n",
       "        73.33333333333333, 60.0], dtype=object))"
      ]
     },
     "execution_count": 61,
     "metadata": {},
     "output_type": "execute_result"
    }
   ],
   "source": [
    "P2 = datos2.iloc[:2,3]/datos2.iloc[-1,-1]\n",
    "f_o2 = datos2.loc[datos2.index!='Total 1',datos2.columns!='Total _'].values.flatten()\n",
    "f_e2 = np.concatenate([datos2.iloc[-1,:-1]*P2[0],datos2.iloc[-1,:-1]*P2[1]])\n",
    "\n",
    "f_o2, f_e2"
   ]
  },
  {
   "cell_type": "code",
   "execution_count": 65,
   "metadata": {},
   "outputs": [
    {
     "name": "stdout",
     "output_type": "stream",
     "text": [
      "Valor de chi cuadrado =  19.31818181818182 ,p-value de la prueba= 0.00023495405224903583\n",
      "Estadístico de Ji =  5.991464547107979\n"
     ]
    }
   ],
   "source": [
    "x2 = st.chisquare(f_o2,f_e2,ddof=GDL2)\n",
    "print('Valor de chi cuadrado = ',list(x2)[0],',p-value de la prueba=',list(x2)[1])\n",
    "\n",
    "Ji = st.chi2.ppf(q = 0.95,df=GDL2)\n",
    "print('Estadístico de Ji = ',Ji)"
   ]
  },
  {
   "cell_type": "markdown",
   "metadata": {},
   "source": [
    "Debido a que el p-value < alpha(0.05), la Ho se rechaza. es decir las preferencias de los niños no son homogeneas respecto a las de las niñas "
   ]
  },
  {
   "cell_type": "markdown",
   "metadata": {},
   "source": [
    "#### 3)prueba de chi cuadrada de bondad ajuste\n",
    "\n",
    "\n",
    "Acme Toy Company prints baseball cards. The company claims that 30% of the cards are rookies, 60% veterans but not All-Stars, and 10% are veteran All-Stars.\n",
    "\n",
    "Suppose a random sample of 100 cards has 50 rookies, 45 veterans, and 5 All-Stars. Is this consistent with Acme's claim? Use a 0.05 level of significance.\n",
    "\n",
    "Null hypothesis: The proportion of rookies, veterans, and All-Stars is 30%, 60% and 10%, respectively. \\ Alternative hypothesis: At least one of the proportions in the null hypothesis is false."
   ]
  },
  {
   "cell_type": "code",
   "execution_count": 66,
   "metadata": {},
   "outputs": [],
   "source": [
    "alpha = 0.05"
   ]
  },
  {
   "cell_type": "code",
   "execution_count": 67,
   "metadata": {},
   "outputs": [
    {
     "data": {
      "text/html": [
       "<div>\n",
       "<style scoped>\n",
       "    .dataframe tbody tr th:only-of-type {\n",
       "        vertical-align: middle;\n",
       "    }\n",
       "\n",
       "    .dataframe tbody tr th {\n",
       "        vertical-align: top;\n",
       "    }\n",
       "\n",
       "    .dataframe thead th {\n",
       "        text-align: right;\n",
       "    }\n",
       "</style>\n",
       "<table border=\"1\" class=\"dataframe\">\n",
       "  <thead>\n",
       "    <tr style=\"text-align: right;\">\n",
       "      <th></th>\n",
       "      <th>Proporciones</th>\n",
       "      <th>Random Sample</th>\n",
       "    </tr>\n",
       "  </thead>\n",
       "  <tbody>\n",
       "    <tr>\n",
       "      <th>0</th>\n",
       "      <td>0.3</td>\n",
       "      <td>50</td>\n",
       "    </tr>\n",
       "    <tr>\n",
       "      <th>1</th>\n",
       "      <td>0.6</td>\n",
       "      <td>45</td>\n",
       "    </tr>\n",
       "    <tr>\n",
       "      <th>2</th>\n",
       "      <td>0.1</td>\n",
       "      <td>5</td>\n",
       "    </tr>\n",
       "  </tbody>\n",
       "</table>\n",
       "</div>"
      ],
      "text/plain": [
       "   Proporciones  Random Sample\n",
       "0           0.3             50\n",
       "1           0.6             45\n",
       "2           0.1              5"
      ]
     },
     "execution_count": 67,
     "metadata": {},
     "output_type": "execute_result"
    }
   ],
   "source": [
    "data_2 = pd.DataFrame(columns=['Proporciones', 'Random Sample'])\n",
    "data_2['Proporciones'] = [0.30,0.60,0.10]\n",
    "data_2['Random Sample'] = [50, 45, 5]\n",
    "data_2\n"
   ]
  },
  {
   "cell_type": "code",
   "execution_count": 70,
   "metadata": {},
   "outputs": [],
   "source": [
    "DF = 2\n",
    "n = 100 \n",
    "esp = np.array([0.30,0.60,0.10])\n",
    "muestreo = np.array([50,45,5])"
   ]
  },
  {
   "cell_type": "code",
   "execution_count": 71,
   "metadata": {},
   "outputs": [
    {
     "data": {
      "text/plain": [
       "(array([30., 60., 10.]), array([50, 45,  5]))"
      ]
     },
     "execution_count": 71,
     "metadata": {},
     "output_type": "execute_result"
    }
   ],
   "source": [
    "f_e3 = esp * n\n",
    "f_o3 = muestreo\n",
    "\n",
    "f_e3, f_o3"
   ]
  },
  {
   "cell_type": "code",
   "execution_count": 75,
   "metadata": {},
   "outputs": [
    {
     "name": "stdout",
     "output_type": "stream",
     "text": [
      "Valor de chi cuadrado =  19.583333333333336 , p-value de la prueba= 2.6486825286769527e-08\n",
      "Estadístico de Ji =  5.97208204124762\n"
     ]
    }
   ],
   "source": [
    "F_obse_2 = f_o3 \n",
    "F_espe_2 = f_e3\n",
    "\n",
    "x2_2 = st.chisquare(F_obse_2, F_espe_2, ddof=1.99)\n",
    "print('Valor de chi cuadrado = ',list(x2_2)[0],', p-value de la prueba=',list(x2_2)[1])\n",
    "\n",
    "Ji_2 = st.chi2.ppf(q = 0.95, df=1.99)\n",
    "print('Estadístico de Ji = ',Ji_2)"
   ]
  },
  {
   "cell_type": "code",
   "execution_count": 76,
   "metadata": {},
   "outputs": [
    {
     "data": {
      "text/plain": [
       "0.9999449047857046"
      ]
     },
     "execution_count": 76,
     "metadata": {},
     "output_type": "execute_result"
    }
   ],
   "source": [
    "x12_2 = st.chi2.cdf(list(x2_2)[0],df=1.99)\n",
    "x12_2"
   ]
  },
  {
   "cell_type": "markdown",
   "metadata": {},
   "source": [
    "Se rechaza la hipotesis nula debido a que el p-value < alpha(0.05), la Ho se rechaza, es decir las cartas no son se distribuyen de la forma que dice Acme Toy."
   ]
  }
 ],
 "metadata": {
  "kernelspec": {
   "display_name": "Python 3",
   "language": "python",
   "name": "python3"
  },
  "language_info": {
   "codemirror_mode": {
    "name": "ipython",
    "version": 3
   },
   "file_extension": ".py",
   "mimetype": "text/x-python",
   "name": "python",
   "nbconvert_exporter": "python",
   "pygments_lexer": "ipython3",
   "version": "3.8.3"
  }
 },
 "nbformat": 4,
 "nbformat_minor": 4
}
